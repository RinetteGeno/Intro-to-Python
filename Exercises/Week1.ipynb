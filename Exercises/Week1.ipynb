{
 "cells": [
  {
   "cell_type": "markdown",
   "id": "7a3b92f1",
   "metadata": {},
   "source": [
    "# Week 1: Basics"
   ]
  },
  {
   "cell_type": "markdown",
   "id": "654a7645",
   "metadata": {},
   "source": [
    "#### Exercise 1: Write a code that prints your name"
   ]
  },
  {
   "cell_type": "code",
   "execution_count": 1,
   "id": "449c293a",
   "metadata": {},
   "outputs": [],
   "source": [
    "#\n",
    "# Your code goes here\n",
    "#"
   ]
  },
  {
   "cell_type": "markdown",
   "id": "55beef12",
   "metadata": {},
   "source": [
    "#### Exercise 2: Write a code that the sum of two numbers *a* and *b*"
   ]
  },
  {
   "cell_type": "code",
   "execution_count": 2,
   "id": "c2ced4ca",
   "metadata": {},
   "outputs": [],
   "source": [
    "# \n",
    "# Your code goes here\n",
    "# "
   ]
  },
  {
   "cell_type": "markdown",
   "id": "c7bbe260",
   "metadata": {},
   "source": []
  }
 ],
 "metadata": {
  "kernelspec": {
   "display_name": "Python 3 (ipykernel)",
   "language": "python",
   "name": "python3"
  },
  "language_info": {
   "codemirror_mode": {
    "name": "ipython",
    "version": 3
   },
   "file_extension": ".py",
   "mimetype": "text/x-python",
   "name": "python",
   "nbconvert_exporter": "python",
   "pygments_lexer": "ipython3",
   "version": "3.10.4"
  }
 },
 "nbformat": 4,
 "nbformat_minor": 5
}
